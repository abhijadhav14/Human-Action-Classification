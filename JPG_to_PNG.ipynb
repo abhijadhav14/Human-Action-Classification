{
  "nbformat": 4,
  "nbformat_minor": 0,
  "metadata": {
    "colab": {
      "provenance": [],
      "mount_file_id": "1_ctRdwLxkxrJaOwxXC0GGspJL4M5uqf3",
      "authorship_tag": "ABX9TyOcHmNuaFusi/h436yM9Akq",
      "include_colab_link": true
    },
    "kernelspec": {
      "name": "python3",
      "display_name": "Python 3"
    },
    "language_info": {
      "name": "python"
    }
  },
  "cells": [
    {
      "cell_type": "markdown",
      "metadata": {
        "id": "view-in-github",
        "colab_type": "text"
      },
      "source": [
        "<a href=\"https://colab.research.google.com/github/abhijadhav14/Human-Action-Classification/blob/main/JPG_to_PNG.ipynb\" target=\"_parent\"><img src=\"https://colab.research.google.com/assets/colab-badge.svg\" alt=\"Open In Colab\"/></a>"
      ]
    },
    {
      "cell_type": "code",
      "source": [
        "from google.colab import drive\n",
        "drive.mount('/content/drive')"
      ],
      "metadata": {
        "colab": {
          "base_uri": "https://localhost:8080/"
        },
        "id": "954xJzs4z_HZ",
        "outputId": "05f65f07-a880-43b9-a879-e0c00c34bed9"
      },
      "execution_count": 1,
      "outputs": [
        {
          "output_type": "stream",
          "name": "stdout",
          "text": [
            "Mounted at /content/drive\n"
          ]
        }
      ]
    },
    {
      "cell_type": "code",
      "source": [
        "from PIL import Image\n",
        "import os"
      ],
      "metadata": {
        "id": "1QLyag2tz_xm"
      },
      "execution_count": 2,
      "outputs": []
    },
    {
      "cell_type": "code",
      "source": [
        "jpg_directory = '/content/drive/MyDrive/EIS/Dataset/Earbuds'"
      ],
      "metadata": {
        "id": "PgnXoxaO0KkA"
      },
      "execution_count": 3,
      "outputs": []
    },
    {
      "cell_type": "code",
      "source": [
        "png_directory = '/content/drive/MyDrive/EIS/Dataset/Earbudspng'"
      ],
      "metadata": {
        "id": "ZnpdKGKW0YYj"
      },
      "execution_count": 4,
      "outputs": []
    },
    {
      "cell_type": "code",
      "source": [
        "os.makedirs(png_directory, exist_ok=True)"
      ],
      "metadata": {
        "id": "PH05ugw40gE0"
      },
      "execution_count": 5,
      "outputs": []
    },
    {
      "cell_type": "code",
      "source": [
        "for filename in os.listdir(jpg_directory):\n",
        "    if filename.endswith(\".jpg\"):\n",
        "        # Open the JPG image\n",
        "        jpg_path = os.path.join(jpg_directory, filename)\n",
        "        img = Image.open(jpg_path)\n",
        "\n",
        "        # Remove the \".jpg\" extension and add \".png\"\n",
        "        png_filename = os.path.splitext(filename)[0] + \".png\"\n",
        "        png_path = os.path.join(png_directory, png_filename)\n",
        "\n",
        "        # Save the image in PNG format\n",
        "        img.save(png_path, \"PNG\")\n",
        "\n",
        "print(\"Conversion complete.\")"
      ],
      "metadata": {
        "colab": {
          "base_uri": "https://localhost:8080/"
        },
        "id": "j86fo83w0jED",
        "outputId": "4ec627e7-c549-4f53-9158-e011b5ecc439"
      },
      "execution_count": 6,
      "outputs": [
        {
          "output_type": "stream",
          "name": "stdout",
          "text": [
            "Conversion complete.\n"
          ]
        }
      ]
    },
    {
      "cell_type": "code",
      "source": [],
      "metadata": {
        "id": "gk6J9Y6e0oI7"
      },
      "execution_count": null,
      "outputs": []
    }
  ]
}